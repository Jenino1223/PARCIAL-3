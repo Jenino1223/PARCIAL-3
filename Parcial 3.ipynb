{
  "nbformat": 4,
  "nbformat_minor": 0,
  "metadata": {
    "colab": {
      "provenance": [],
      "authorship_tag": "ABX9TyOrtkrPP6Hzp2j7rsQLsz/2",
      "include_colab_link": true
    },
    "kernelspec": {
      "name": "python3",
      "display_name": "Python 3"
    },
    "language_info": {
      "name": "python"
    }
  },
  "cells": [
    {
      "cell_type": "markdown",
      "metadata": {
        "id": "view-in-github",
        "colab_type": "text"
      },
      "source": [
        "<a href=\"https://colab.research.google.com/github/Jenino1223/PARCIAL-3/blob/main/Parcial%203.ipynb\" target=\"_parent\"><img src=\"https://colab.research.google.com/assets/colab-badge.svg\" alt=\"Open In Colab\"/></a>"
      ]
    },
    {
      "cell_type": "code",
      "execution_count": 4,
      "metadata": {
        "colab": {
          "base_uri": "https://localhost:8080/"
        },
        "id": "Q-lco-AEDXQJ",
        "outputId": "b8e55cb8-8f45-4191-ba93-5d0ace10feeb"
      },
      "outputs": [
        {
          "output_type": "stream",
          "name": "stdout",
          "text": [
            "Ingrese la longitud de la contraseña: 8\n",
            "¿Su contraseña tiene numeros? (si/no): Si\n",
            "¿Su contraseña incluye mayusculas? (si/no): Si\n",
            "¿Su contraseña incluye caracteres? (si/no): Si\n",
            "\n",
            " Contraseña generada: SY\"0ED/J\n"
          ]
        }
      ],
      "source": [
        "#Generador de Contraseñas Seguras\n",
        "\n",
        "import string #Cadena de texto\n",
        "import random #Genera datos aleatorios\n",
        "\n",
        "def contraseña(longitud, numeros=True, mayusculas=True, caracteres=True): #Funcion Contraseña, pide el largo de esta, si tiene numeros, mayusculas y caracteres especiales.\n",
        "    genera_contraseña = string.ascii_lowercase #inicia en minusculas\n",
        "    if mayusculas: #Agrega mayusculas\n",
        "        genera_contraseña += string.ascii_uppercase\n",
        "    if numeros: #Agrega numeros\n",
        "        genera_contraseña += string.digits\n",
        "    if caracteres: #Agrega caracteres especiales\n",
        "        genera_contraseña += string.punctuation\n",
        "\n",
        "    contraseña = ''.join(random.choice(genera_contraseña) for _ in range(longitud)) #Genera la contraseña con las indicaciones anteriores.\n",
        "    return contraseña #Guarda la contraseña\n",
        "\n",
        "# Pregunta las caracteristicas de la contraseña\n",
        "longitud = int(input(\"Ingrese la longitud de la contraseña: \"))\n",
        "numeros = input(\"¿Su contraseña tiene numeros? (si/no): \").strip().lower() == 'si'\n",
        "mayusculas = input(\"¿Su contraseña incluye mayusculas? (si/no): \").strip().lower() == 'si'\n",
        "caracteres = input(\"¿Su contraseña incluye caracteres? (si/no): \").strip().lower() == 'si'\n",
        "\n",
        "print(f\"\\n Contraseña generada: {contraseña(longitud, numeros, mayusculas, caracteres)}\") #Muestra contraseña aleatoria."
      ]
    }
  ]
}